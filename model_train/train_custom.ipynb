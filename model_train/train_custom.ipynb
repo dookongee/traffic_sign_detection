{
 "cells": [
  {
   "cell_type": "markdown",
   "id": "a1edbed3",
   "metadata": {},
   "source": [
    "## train with custom dataset"
   ]
  },
  {
   "cell_type": "markdown",
   "id": "d012fab4",
   "metadata": {},
   "source": [
    "### Create a training YAML file"
   ]
  },
  {
   "cell_type": "code",
   "execution_count": null,
   "id": "d72d7b46",
   "metadata": {},
   "outputs": [],
   "source": [
    "from functools import total_ordering\n",
    "import os\n",
    "import shutil\n",
    "import random\n",
    "\n",
    "image_dir = '/content/drive/new_image'\n",
    "annotation_dir = '/content/drive/label'\n",
    "\n",
    "base_output_dir = \"/content/yolo_pr\"\n",
    "train_image_dir = os.path.join(base_output_dir, \"images/train\")\n",
    "val_image_dir = os.path.join(base_output_dir, \"images/val\")\n",
    "train_label_dir = os.path.join(base_output_dir, \"labels/train\")\n",
    "val_label_dir = os.path.join(base_output_dir, \"labels/val\")\n",
    "\n",
    "def create_dirs():\n",
    "    for d in [train_image_dir, val_image_dir,train_label_dir, val_label_dir]:\n",
    "        os.makedirs(d, exist_ok=True)\n",
    "\n",
    "image_files = sorted([f for f in os.listdir(image_dir) if f.endswith(('.jpg', '.png', '.jpeg'))])\n",
    "random.seed(33)\n",
    "random.shuffle(image_files)\n",
    "\n",
    "# train : validation = 8:2\n",
    "total_image = len(image_files)\n",
    "train_size = int(total_image * 0.8)\n",
    "\n",
    "train_files = image_files[:train_size]\n",
    "val_files = image_files[train_size:]\n",
    "\n",
    "def move_files(file_list, src_img_dir, src_ann_dir, dest_img_dir, dest_ann_dir):\n",
    "    for file_name in file_list:\n",
    "        img_src_path = os.path.join(src_img_dir, file_name)\n",
    "        img_dest_path = os.path.join(dest_img_dir, file_name)\n",
    "\n",
    "        ann_file_name = os.path.splitext(file_name)[0] + \".txt\"\n",
    "        ann_src_path = os.path.join(src_ann_dir, ann_file_name)\n",
    "        ann_dest_path = os.path.join(dest_ann_dir, ann_file_name)\n",
    "\n",
    "        if os.path.exists(img_src_path):\n",
    "            shutil.copy(img_src_path, img_dest_path)\n",
    "\n",
    "        if os.path.exists(ann_src_path):\n",
    "            shutil.copy(ann_src_path, ann_dest_path)\n",
    "\n",
    "def create_yaml():\n",
    "    yaml_content = f\"\"\"\n",
    "train: {train_image_dir}\n",
    "val: {val_image_dir}\n",
    "nc: 6\n",
    "names: ['sign','sign_word','direction','hurdle','working_truck','tripod']\n",
    "\"\"\"\n",
    "    yaml_path = os.path.join(base_output_dir, \"dataset.yaml\")\n",
    "    with open(yaml_path, \"w\") as f:\n",
    "        f.write(yaml_content)\n",
    "\n",
    "def main():\n",
    "    create_dirs()\n",
    "    move_files(train_files, image_dir, annotation_dir, train_image_dir, train_label_dir)\n",
    "    move_files(val_files, image_dir, annotation_dir, val_image_dir, val_label_dir)\n",
    "    create_yaml()\n",
    "    print(\"Dataset preparation completed! YAML file created.\")\n",
    "\n",
    "main()"
   ]
  },
  {
   "cell_type": "markdown",
   "id": "9b3c63c2",
   "metadata": {},
   "source": [
    "### train"
   ]
  },
  {
   "cell_type": "code",
   "execution_count": null,
   "id": "5c1361b9",
   "metadata": {},
   "outputs": [],
   "source": [
    "from ultralytics import YOLO\n",
    "\n",
    "model = YOLO('yolov8n.pt')\n",
    "\n",
    "model.load('/content/bdd100k_yolo/yolo_results/train/weights/best.pt')\n",
    "results = model.train(data='/content/yolo_pr/dataset.yaml', epochs=150,patience=10)\n",
    "results = model.val()\n"
   ]
  }
 ],
 "metadata": {
  "language_info": {
   "name": "python"
  }
 },
 "nbformat": 4,
 "nbformat_minor": 5
}
