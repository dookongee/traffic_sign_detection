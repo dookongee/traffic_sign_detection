{
 "cells": [
  {
   "cell_type": "markdown",
   "id": "c4cdcea3",
   "metadata": {},
   "source": [
    "## Create a training YAML file"
   ]
  },
  {
   "cell_type": "code",
   "execution_count": null,
   "id": "70422e9e",
   "metadata": {},
   "outputs": [],
   "source": [
    "import os\n",
    "import json\n",
    "import shutil\n",
    "\n",
    "orig_ann_train = \"/content/annotation/train\"\n",
    "orig_ann_val = \"/content/annotation/valid\"\n",
    "orig_img_train = \"/content/train\"\n",
    "orig_img_val = \"/content/valid\"\n",
    "\n",
    "yolo_base = \"/content/bdd100k_yolo\"\n",
    "yolo_img_train = os.path.join(yolo_base, \"images/train\")\n",
    "yolo_img_val = os.path.join(yolo_base, \"images/val\")\n",
    "yolo_label_train = os.path.join(yolo_base, \"labels/train\")\n",
    "yolo_label_val = os.path.join(yolo_base, \"labels/val\")\n",
    "\n",
    "classes = [\"traffic sign\"]\n",
    "\n",
    "for d in [yolo_img_train, yolo_img_val, yolo_label_train, yolo_label_val]:\n",
    "    os.makedirs(d, exist_ok=True)\n",
    "\n",
    "def convert_to_yolo(json_path, img_dir, yolo_label_dir):\n",
    "    with open(json_path, \"r\") as f:\n",
    "        data = json.load(f)\n",
    "\n",
    "    img_width, img_height = 1280, 720  \n",
    "\n",
    "    txt_filename = os.path.splitext(os.path.basename(json_path))[0] + \".txt\"\n",
    "    txt_path = os.path.join(yolo_label_dir, txt_filename)\n",
    "\n",
    "    with open(txt_path, \"w\") as f_out:\n",
    "        for obj in data:\n",
    "            category = obj[\"category\"]\n",
    "            if category not in classes:\n",
    "                continue\n",
    "\n",
    "            class_id = classes.index(category)\n",
    "            box = obj[\"box2d\"]\n",
    "            x1, y1, x2, y2 = box[\"x1\"], box[\"y1\"], box[\"x2\"], box[\"y2\"]\n",
    "\n",
    "            # YOLO format\n",
    "            x_center = ((x1 + x2) / 2) / img_width\n",
    "            y_center = ((y1 + y2) / 2) / img_height\n",
    "            width = (x2 - x1) / img_width\n",
    "            height = (y2 - y1) / img_height\n",
    "            f_out.write(f\"{class_id} {x_center:.6f} {y_center:.6f} {width:.6f} {height:.6f}\\n\")\n",
    "\n",
    "# Train data transform\n",
    "for json_file in os.listdir(orig_ann_train):\n",
    "    json_path = os.path.join(orig_ann_train, json_file)\n",
    "    convert_to_yolo(json_path, orig_img_train, yolo_label_train)\n",
    "\n",
    "    img_file = json_file.replace(\".json\", \".jpg\")\n",
    "    src_img_path = os.path.join(orig_img_train, img_file)\n",
    "    dst_img_path = os.path.join(yolo_img_train, img_file)\n",
    "    if os.path.exists(src_img_path):\n",
    "        shutil.copy(src_img_path, dst_img_path)\n",
    "\n",
    "# Validation data transform\n",
    "for json_file in os.listdir(orig_ann_val):\n",
    "    json_path = os.path.join(orig_ann_val, json_file)\n",
    "    convert_to_yolo(json_path, orig_img_val, yolo_label_val)\n",
    "\n",
    "    img_file = json_file.replace(\".json\", \".jpg\")\n",
    "    src_img_path = os.path.join(orig_img_val, img_file)\n",
    "    dst_img_path = os.path.join(yolo_img_val, img_file)\n",
    "    if os.path.exists(src_img_path):\n",
    "        shutil.copy(src_img_path, dst_img_path)\n",
    "\n",
    "# generate dataset.yaml \n",
    "yaml_content = f\"\"\"\n",
    "path: {yolo_base}\n",
    "train: images/train\n",
    "val: images/val\n",
    "nc: {len(classes)}\n",
    "names: {classes}\n",
    "\"\"\"\n",
    "\n",
    "yaml_path = os.path.join(yolo_base, \"dataset.yaml\")\n",
    "with open(yaml_path, \"w\") as f:\n",
    "    f.write(yaml_content.strip())\n"
   ]
  },
  {
   "cell_type": "markdown",
   "id": "548e3c86",
   "metadata": {},
   "source": [
    "### train"
   ]
  },
  {
   "cell_type": "code",
   "execution_count": null,
   "id": "0391d072",
   "metadata": {},
   "outputs": [],
   "source": [
    "from ultralytics import YOLO\n",
    "\n",
    "model = YOLO('yolov8n.pt')\n",
    "results = model.train(data='/content/bdd100k_yolo/dataset.yaml', epochs=50)\n",
    "results = model.val()"
   ]
  }
 ],
 "metadata": {
  "kernelspec": {
   "display_name": "base",
   "language": "python",
   "name": "python3"
  },
  "language_info": {
   "codemirror_mode": {
    "name": "ipython",
    "version": 3
   },
   "file_extension": ".py",
   "mimetype": "text/x-python",
   "name": "python",
   "nbconvert_exporter": "python",
   "pygments_lexer": "ipython3",
   "version": "3.11.5"
  }
 },
 "nbformat": 4,
 "nbformat_minor": 5
}
