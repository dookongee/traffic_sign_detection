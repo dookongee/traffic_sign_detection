{
 "cells": [
  {
   "cell_type": "markdown",
   "id": "091d7ffd",
   "metadata": {},
   "source": [
    "## Organizing Annotation Files\n",
    "- Extract annotation files that contain the traffic sign label from a set of files with 20 different labels."
   ]
  },
  {
   "cell_type": "markdown",
   "id": "db2a4073",
   "metadata": {},
   "source": [
    "train data"
   ]
  },
  {
   "cell_type": "code",
   "execution_count": null,
   "id": "94945b88",
   "metadata": {},
   "outputs": [],
   "source": [
    "import os\n",
    "import json\n",
    "\n",
    "json_path = \"/content/det_train.json\"\n",
    "output_dir = \"/content/annotation/train\"\n",
    "os.makedirs(output_dir, exist_ok=True)\n",
    "\n",
    "with open(json_path, \"r\") as f:\n",
    "    data = json.load(f)\n",
    "\n",
    "# filter image that has \"traffic sign\" annotation\n",
    "for image_info in data:\n",
    "    image_name = image_info[\"name\"]\n",
    "    traffic_signs = []\n",
    "\n",
    "    for label in image_info.get(\"labels\", []):\n",
    "        if label[\"category\"] == \"traffic sign\":\n",
    "            traffic_signs.append({\n",
    "                \"id\": label[\"id\"],\n",
    "                \"category\": label[\"category\"],\n",
    "                \"box2d\": label[\"box2d\"]\n",
    "            })\n",
    "    if traffic_signs:\n",
    "        output_file = os.path.join(output_dir, f\"{os.path.splitext(image_name)[0]}.json\")\n",
    "        with open(output_file, \"w\") as out_f:\n",
    "            json.dump(traffic_signs, out_f, indent=4)\n",
    "\n",
    "print(f\"'Traffic sign' JSON train file had been saved to {output_dir}\")"
   ]
  },
  {
   "cell_type": "markdown",
   "id": "0616302a",
   "metadata": {},
   "source": [
    "validation data"
   ]
  },
  {
   "cell_type": "code",
   "execution_count": null,
   "id": "95f080b8",
   "metadata": {},
   "outputs": [],
   "source": [
    "import os\n",
    "import json\n",
    "\n",
    "json_path = \"/content/det_val.json\"\n",
    "output_dir = \"/content/annotation/valid\"\n",
    "os.makedirs(output_dir, exist_ok=True)\n",
    "\n",
    "with open(json_path, \"r\") as f:\n",
    "    data = json.load(f)\n",
    "\n",
    "# filter image that has \"traffic sign\" annotation\n",
    "for image_info in data:\n",
    "    image_name = image_info[\"name\"]\n",
    "    traffic_signs = []\n",
    "\n",
    "    for label in image_info.get(\"labels\", []):\n",
    "        if label[\"category\"] == \"traffic sign\":\n",
    "            traffic_signs.append({\n",
    "                \"id\": label[\"id\"],\n",
    "                \"category\": label[\"category\"],\n",
    "                \"box2d\": label[\"box2d\"]\n",
    "            })\n",
    "    if traffic_signs:\n",
    "        output_file = os.path.join(output_dir, f\"{os.path.splitext(image_name)[0]}.json\")\n",
    "        with open(output_file, \"w\") as out_f:\n",
    "            json.dump(traffic_signs, out_f, indent=4)\n",
    "\n",
    "print(f\"'Traffic sign' JSON validation file had been saved to {output_dir}\")"
   ]
  }
 ],
 "metadata": {
  "kernelspec": {
   "display_name": "base",
   "language": "python",
   "name": "python3"
  },
  "language_info": {
   "name": "python",
   "version": "3.11.5"
  }
 },
 "nbformat": 4,
 "nbformat_minor": 5
}
